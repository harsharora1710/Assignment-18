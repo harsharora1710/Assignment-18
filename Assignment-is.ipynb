{
 "cells": [
  {
   "cell_type": "code",
   "execution_count": 49,
   "id": "76be22af-6685-459b-b0bf-95721c9fd0e5",
   "metadata": {},
   "outputs": [],
   "source": [
    "#q1)\n",
    "import requests\n",
    "from bs4 import BeautifulSoup as bs\n",
    "from urllib.request import urlopen \n",
    "import logging"
   ]
  },
  {
   "cell_type": "code",
   "execution_count": 2,
   "id": "ffd51434-412d-4a33-bed9-47b39608b56f",
   "metadata": {},
   "outputs": [],
   "source": [
    "yt_url=\"https://www.youtube.com/@PW-Foundation/videos\""
   ]
  },
  {
   "cell_type": "code",
   "execution_count": 3,
   "id": "de9c9b38-2d0c-48a5-be2a-87d039ca3e06",
   "metadata": {},
   "outputs": [
    {
     "data": {
      "text/plain": [
       "'https://www.youtube.com/@PW-Foundation/videos'"
      ]
     },
     "execution_count": 3,
     "metadata": {},
     "output_type": "execute_result"
    }
   ],
   "source": [
    "yt_url"
   ]
  },
  {
   "cell_type": "code",
   "execution_count": 7,
   "id": "4b6df099-ba00-4657-b4bb-98db0f867a70",
   "metadata": {},
   "outputs": [],
   "source": [
    "yt_client=urlopen(yt_url)"
   ]
  },
  {
   "cell_type": "code",
   "execution_count": 9,
   "id": "652a070c-b523-4594-b9c8-f4f8fb8fc430",
   "metadata": {},
   "outputs": [
    {
     "data": {
      "text/plain": [
       "<http.client.HTTPResponse at 0x7f2c6c1ce7d0>"
      ]
     },
     "execution_count": 9,
     "metadata": {},
     "output_type": "execute_result"
    }
   ],
   "source": [
    "yt_client"
   ]
  },
  {
   "cell_type": "code",
   "execution_count": 48,
   "id": "f740b53c-a983-439d-96d1-63c5ae37c2ed",
   "metadata": {},
   "outputs": [],
   "source": [
    "import requests\n",
    "from bs4 import BeautifulSoup\n",
    "\n",
    "url = \"https://www.youtube.com/@PW-Foundation/videos\"\n",
    "\n",
    "# Send a GET request to the URL and retrieve the HTML content\n",
    "response = requests.get(url)\n",
    "html_content = response.content\n",
    "\n",
    "# Parse the HTML content using BeautifulSoup\n",
    "soup = BeautifulSoup(html_content, 'html.parser')\n",
    "\n",
    "# Find the video links using appropriate HTML tags and attributes\n",
    "video_links = soup.select('a.yt-simple-endpoint.style-scope.yt-formatted-string')\n",
    "\n",
    "# Extract the video URLs from the links\n",
    "video_urls = []\n",
    "for link in video_links[:5]:  # Extracting the first five videos\n",
    "    video_url = link['href']\n",
    "    video_urls.append(f\"https://www.youtube.com{video_url}\")\n",
    "\n",
    "# Print the extracted video URLs\n",
    "for url in video_urls:\n",
    "    print(url)\n"
   ]
  },
  {
   "cell_type": "code",
   "execution_count": null,
   "id": "12d60514-2ade-4425-a296-7df615ca0739",
   "metadata": {},
   "outputs": [],
   "source": [
    "#q2)\n"
   ]
  }
 ],
 "metadata": {
  "kernelspec": {
   "display_name": "Python 3 (ipykernel)",
   "language": "python",
   "name": "python3"
  },
  "language_info": {
   "codemirror_mode": {
    "name": "ipython",
    "version": 3
   },
   "file_extension": ".py",
   "mimetype": "text/x-python",
   "name": "python",
   "nbconvert_exporter": "python",
   "pygments_lexer": "ipython3",
   "version": "3.10.8"
  }
 },
 "nbformat": 4,
 "nbformat_minor": 5
}
